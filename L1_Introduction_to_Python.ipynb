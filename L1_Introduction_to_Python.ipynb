{
  "nbformat": 4,
  "nbformat_minor": 0,
  "metadata": {
    "kernelspec": {
      "display_name": "Python 3",
      "language": "python",
      "name": "python3"
    },
    "language_info": {
      "codemirror_mode": {
        "name": "ipython",
        "version": 3
      },
      "file_extension": ".py",
      "mimetype": "text/x-python",
      "name": "python",
      "nbconvert_exporter": "python",
      "pygments_lexer": "ipython3",
      "version": "3.8.10"
    },
    "colab": {
      "provenance": []
    }
  },
  "cells": [
    {
      "cell_type": "markdown",
      "metadata": {
        "id": "Im1W4jbmWxux"
      },
      "source": [
        "# Lecture 1. Data Science overview and Introduction to Python (Part I)"
      ]
    },
    {
      "cell_type": "markdown",
      "metadata": {
        "id": "rPef--IKWxu3"
      },
      "source": [
        "## String"
      ]
    },
    {
      "cell_type": "markdown",
      "metadata": {
        "id": "OTtiwlvoWxu3"
      },
      "source": [
        "Slicing strings:"
      ]
    },
    {
      "cell_type": "code",
      "metadata": {
        "colab": {
          "base_uri": "https://localhost:8080/"
        },
        "id": "0uHv3QPXWxu4",
        "outputId": "62570ab3-cba0-4408-aa89-a8936a941058"
      },
      "source": [
        "my_string = \"This is string\"\n",
        "print(f\"my_string[0:4]  -- {my_string[0:4]}\")\n",
        "print(f\"my_string[2]    -- {my_string[2]}\")\n",
        "print(f\"my_string[-1]   -- {my_string[-1]}\")\n",
        "print(f\"my_string[2:-7] -- {my_string[2:-7]}\")\n",
        "print(f\"my_string[::3]  -- {my_string[::3]}\")"
      ],
      "execution_count": null,
      "outputs": [
        {
          "output_type": "stream",
          "name": "stdout",
          "text": [
            "my_string[0:4]  -- This\n",
            "my_string[2]    -- i\n",
            "my_string[-1]   -- g\n",
            "my_string[2:-7] -- is is\n",
            "my_string[::3]  -- Tsstn\n"
          ]
        }
      ]
    },
    {
      "cell_type": "markdown",
      "metadata": {
        "id": "Oa9eWLKRWxu6"
      },
      "source": [
        "Updating"
      ]
    },
    {
      "cell_type": "code",
      "metadata": {
        "id": "VR51TkzkWxu6",
        "outputId": "3df6f230-a3fe-4dd5-e9f1-c7c1a9a99644"
      },
      "source": [
        "string_one = \"one\"\n",
        "string_two = \"two\"\n",
        "string_one_two = string_one + string_two\n",
        "print(string_one_two)\n",
        "\n",
        "string_one_two = string_one_two + \"three\"\n",
        "print(string_one_two)"
      ],
      "execution_count": null,
      "outputs": [
        {
          "name": "stdout",
          "output_type": "stream",
          "text": [
            "onetwo\n",
            "onetwothree\n"
          ]
        }
      ]
    },
    {
      "cell_type": "code",
      "metadata": {
        "id": "3yv5VU_gWxu7",
        "outputId": "0e0b570b-98bd-4b3b-a060-efcf449258ed"
      },
      "source": [
        "#You can't replace symbols in strings by their index\n",
        "string_one_two[3] = \"T\""
      ],
      "execution_count": null,
      "outputs": [
        {
          "ename": "TypeError",
          "evalue": "'str' object does not support item assignment",
          "output_type": "error",
          "traceback": [
            "\u001b[0;31m---------------------------------------------------------------------------\u001b[0m",
            "\u001b[0;31mTypeError\u001b[0m                                 Traceback (most recent call last)",
            "\u001b[0;32m<ipython-input-3-2696994562dc>\u001b[0m in \u001b[0;36m<module>\u001b[0;34m\u001b[0m\n\u001b[1;32m      1\u001b[0m \u001b[0;31m#You can't replace symbols in strings by their index\u001b[0m\u001b[0;34m\u001b[0m\u001b[0;34m\u001b[0m\u001b[0;34m\u001b[0m\u001b[0m\n\u001b[0;32m----> 2\u001b[0;31m \u001b[0mstring_one_two\u001b[0m\u001b[0;34m[\u001b[0m\u001b[0;36m3\u001b[0m\u001b[0;34m]\u001b[0m \u001b[0;34m=\u001b[0m \u001b[0;34m\"T\"\u001b[0m\u001b[0;34m\u001b[0m\u001b[0;34m\u001b[0m\u001b[0m\n\u001b[0m",
            "\u001b[0;31mTypeError\u001b[0m: 'str' object does not support item assignment"
          ]
        }
      ]
    },
    {
      "cell_type": "code",
      "metadata": {
        "id": "tS89q7C8Wxu8",
        "outputId": "63440aa5-71e9-457e-f5cd-b35a5e817e17"
      },
      "source": [
        "#The work around is to to concatenate strings before,suggested replacement and after:\n",
        "string_one_two = string_one_two[:3] + \"T\" + string_one_two[4:]\n",
        "print(string_one_two)"
      ],
      "execution_count": null,
      "outputs": [
        {
          "name": "stdout",
          "output_type": "stream",
          "text": [
            "oneTwothree\n"
          ]
        }
      ]
    },
    {
      "cell_type": "markdown",
      "metadata": {
        "id": "nZqDuudZWxu9"
      },
      "source": [
        "### String methods"
      ]
    },
    {
      "cell_type": "code",
      "metadata": {
        "colab": {
          "base_uri": "https://localhost:8080/"
        },
        "id": "ZOyk6VaSWxu9",
        "outputId": "0634d006-f0f1-49f2-d25f-9dbdf08f7923"
      },
      "source": [
        "print(dir(''))"
      ],
      "execution_count": null,
      "outputs": [
        {
          "output_type": "stream",
          "name": "stdout",
          "text": [
            "['__add__', '__class__', '__contains__', '__delattr__', '__dir__', '__doc__', '__eq__', '__format__', '__ge__', '__getattribute__', '__getitem__', '__getnewargs__', '__gt__', '__hash__', '__init__', '__init_subclass__', '__iter__', '__le__', '__len__', '__lt__', '__mod__', '__mul__', '__ne__', '__new__', '__reduce__', '__reduce_ex__', '__repr__', '__rmod__', '__rmul__', '__setattr__', '__sizeof__', '__str__', '__subclasshook__', 'capitalize', 'casefold', 'center', 'count', 'encode', 'endswith', 'expandtabs', 'find', 'format', 'format_map', 'index', 'isalnum', 'isalpha', 'isascii', 'isdecimal', 'isdigit', 'isidentifier', 'islower', 'isnumeric', 'isprintable', 'isspace', 'istitle', 'isupper', 'join', 'ljust', 'lower', 'lstrip', 'maketrans', 'partition', 'replace', 'rfind', 'rindex', 'rjust', 'rpartition', 'rsplit', 'rstrip', 'split', 'splitlines', 'startswith', 'strip', 'swapcase', 'title', 'translate', 'upper', 'zfill']\n"
          ]
        }
      ]
    },
    {
      "cell_type": "markdown",
      "metadata": {
        "id": "XRtLU35WWxu-"
      },
      "source": [
        "## Numbers: Integers and Floats"
      ]
    },
    {
      "cell_type": "markdown",
      "metadata": {
        "id": "jLuZiZcEWxu-"
      },
      "source": [
        "### Integer methods"
      ]
    },
    {
      "cell_type": "code",
      "metadata": {
        "colab": {
          "base_uri": "https://localhost:8080/",
          "height": 130
        },
        "id": "3lNo5aPWX6sG",
        "outputId": "00335ad5-5776-4332-c26b-9a09fe9898b4"
      },
      "source": [
        "2+2=4"
      ],
      "execution_count": null,
      "outputs": [
        {
          "output_type": "error",
          "ename": "SyntaxError",
          "evalue": "ignored",
          "traceback": [
            "\u001b[0;36m  File \u001b[0;32m\"<ipython-input-6-3017bcc78bb1>\"\u001b[0;36m, line \u001b[0;32m1\u001b[0m\n\u001b[0;31m    2+2=4\u001b[0m\n\u001b[0m         ^\u001b[0m\n\u001b[0;31mSyntaxError\u001b[0m\u001b[0;31m:\u001b[0m can't assign to operator\n"
          ]
        }
      ]
    },
    {
      "cell_type": "code",
      "metadata": {
        "colab": {
          "base_uri": "https://localhost:8080/"
        },
        "id": "T8sqH4x2Wxu_",
        "outputId": "8daadbd9-474e-4552-807f-d9cb1b09b9bd"
      },
      "source": [
        "print(dir(1))"
      ],
      "execution_count": null,
      "outputs": [
        {
          "output_type": "stream",
          "name": "stdout",
          "text": [
            "['__abs__', '__add__', '__and__', '__bool__', '__ceil__', '__class__', '__delattr__', '__dir__', '__divmod__', '__doc__', '__eq__', '__float__', '__floor__', '__floordiv__', '__format__', '__ge__', '__getattribute__', '__getnewargs__', '__gt__', '__hash__', '__index__', '__init__', '__init_subclass__', '__int__', '__invert__', '__le__', '__lshift__', '__lt__', '__mod__', '__mul__', '__ne__', '__neg__', '__new__', '__or__', '__pos__', '__pow__', '__radd__', '__rand__', '__rdivmod__', '__reduce__', '__reduce_ex__', '__repr__', '__rfloordiv__', '__rlshift__', '__rmod__', '__rmul__', '__ror__', '__round__', '__rpow__', '__rrshift__', '__rshift__', '__rsub__', '__rtruediv__', '__rxor__', '__setattr__', '__sizeof__', '__str__', '__sub__', '__subclasshook__', '__truediv__', '__trunc__', '__xor__', 'bit_length', 'conjugate', 'denominator', 'from_bytes', 'imag', 'numerator', 'real', 'to_bytes']\n"
          ]
        }
      ]
    },
    {
      "cell_type": "markdown",
      "metadata": {
        "id": "2FTnIOsJWxu_"
      },
      "source": [
        "### Float methods"
      ]
    },
    {
      "cell_type": "code",
      "metadata": {
        "id": "bUB3qDrtWxu_",
        "outputId": "188e1dd3-db3f-43cd-cf3b-61f517855ce2"
      },
      "source": [
        "print(dir(1.0))"
      ],
      "execution_count": null,
      "outputs": [
        {
          "name": "stdout",
          "output_type": "stream",
          "text": [
            "['__abs__', '__add__', '__bool__', '__class__', '__delattr__', '__dir__', '__divmod__', '__doc__', '__eq__', '__float__', '__floordiv__', '__format__', '__ge__', '__getattribute__', '__getformat__', '__getnewargs__', '__gt__', '__hash__', '__init__', '__init_subclass__', '__int__', '__le__', '__lt__', '__mod__', '__mul__', '__ne__', '__neg__', '__new__', '__pos__', '__pow__', '__radd__', '__rdivmod__', '__reduce__', '__reduce_ex__', '__repr__', '__rfloordiv__', '__rmod__', '__rmul__', '__round__', '__rpow__', '__rsub__', '__rtruediv__', '__set_format__', '__setattr__', '__sizeof__', '__str__', '__sub__', '__subclasshook__', '__truediv__', '__trunc__', 'as_integer_ratio', 'conjugate', 'fromhex', 'hex', 'imag', 'is_integer', 'real']\n"
          ]
        }
      ]
    },
    {
      "cell_type": "markdown",
      "metadata": {
        "id": "VWQZ59rvWxvA"
      },
      "source": [
        "## Boolean"
      ]
    },
    {
      "cell_type": "code",
      "metadata": {
        "id": "7-O6MaDJWxvA",
        "outputId": "e8f9d2f8-fec3-42a2-d03a-3b52aa330502"
      },
      "source": [
        "my_bool = 2 + 2 == 5\n",
        "print(my_bool, type(my_bool))"
      ],
      "execution_count": null,
      "outputs": [
        {
          "name": "stdout",
          "output_type": "stream",
          "text": [
            "False <class 'bool'>\n"
          ]
        }
      ]
    },
    {
      "cell_type": "code",
      "metadata": {
        "id": "rml6aynfWxvA"
      },
      "source": [
        "my_bool = True"
      ],
      "execution_count": null,
      "outputs": []
    },
    {
      "cell_type": "code",
      "metadata": {
        "id": "0Y3p_KfMWxvA",
        "outputId": "81f84b98-d4d1-4ef3-d3c0-c58e094c56d4"
      },
      "source": [
        "#Convert to False bool:\n",
        "bool(False), bool(None), bool(0), bool(\"\"), bool(()), bool([]), bool({})"
      ],
      "execution_count": null,
      "outputs": [
        {
          "data": {
            "text/plain": [
              "(False, False, False, False, False, False, False)"
            ]
          },
          "execution_count": 10,
          "metadata": {},
          "output_type": "execute_result"
        }
      ]
    },
    {
      "cell_type": "code",
      "metadata": {
        "id": "jqhX5J8vWxvB",
        "outputId": "13d17b1d-ec4e-4ab5-ca2c-38bf85a83287"
      },
      "source": [
        "#Convert to True bool\n",
        "bool(True), bool(1), bool(\"a\"), bool((-1, -1)), bool([1]), bool({\"d\":\"e\"})"
      ],
      "execution_count": null,
      "outputs": [
        {
          "data": {
            "text/plain": [
              "(True, True, True, True, True, True)"
            ]
          },
          "execution_count": 11,
          "metadata": {},
          "output_type": "execute_result"
        }
      ]
    },
    {
      "cell_type": "markdown",
      "metadata": {
        "id": "OaI4JwLuWxvB"
      },
      "source": [
        "### Bool methods"
      ]
    },
    {
      "cell_type": "code",
      "metadata": {
        "id": "ont3H5-GWxvC",
        "outputId": "b98ab466-1a2e-4024-d96e-e7c3d2aee022"
      },
      "source": [
        "print(dir(True))"
      ],
      "execution_count": null,
      "outputs": [
        {
          "name": "stdout",
          "output_type": "stream",
          "text": [
            "['__abs__', '__add__', '__and__', '__bool__', '__ceil__', '__class__', '__delattr__', '__dir__', '__divmod__', '__doc__', '__eq__', '__float__', '__floor__', '__floordiv__', '__format__', '__ge__', '__getattribute__', '__getnewargs__', '__gt__', '__hash__', '__index__', '__init__', '__init_subclass__', '__int__', '__invert__', '__le__', '__lshift__', '__lt__', '__mod__', '__mul__', '__ne__', '__neg__', '__new__', '__or__', '__pos__', '__pow__', '__radd__', '__rand__', '__rdivmod__', '__reduce__', '__reduce_ex__', '__repr__', '__rfloordiv__', '__rlshift__', '__rmod__', '__rmul__', '__ror__', '__round__', '__rpow__', '__rrshift__', '__rshift__', '__rsub__', '__rtruediv__', '__rxor__', '__setattr__', '__sizeof__', '__str__', '__sub__', '__subclasshook__', '__truediv__', '__trunc__', '__xor__', 'as_integer_ratio', 'bit_length', 'conjugate', 'denominator', 'from_bytes', 'imag', 'numerator', 'real', 'to_bytes']\n"
          ]
        }
      ]
    },
    {
      "cell_type": "markdown",
      "metadata": {
        "id": "3M3yYb_HWxvC"
      },
      "source": [
        "## List"
      ]
    },
    {
      "cell_type": "code",
      "metadata": {
        "id": "iNCnwKj6WxvC",
        "outputId": "3de8f268-bc68-4f30-98d2-b1650fe7d7ae"
      },
      "source": [
        "abc_list = list(\"abcdef\")\n",
        "print(abc_list)"
      ],
      "execution_count": null,
      "outputs": [
        {
          "name": "stdout",
          "output_type": "stream",
          "text": [
            "['a', 'b', 'c', 'd', 'e', 'f']\n"
          ]
        }
      ]
    },
    {
      "cell_type": "code",
      "metadata": {
        "id": "od7L1JEDWxvC",
        "outputId": "ae42a01b-79bb-4ad9-bb70-a207a21183f2"
      },
      "source": [
        "print(f\"abc_list[0]    -- {abc_list[0]}\")\n",
        "print(f\"abc_list[-1]   -- {abc_list[-1]}\")\n",
        "print(f\"abc_list[1:4]  -- {abc_list[1:4]}\")\n",
        "print(f\"abc_list[3:]   -- {abc_list[3:]}\")\n",
        "print(f\"abc_list[::-1] -- {abc_list[::-1]}\")"
      ],
      "execution_count": null,
      "outputs": [
        {
          "name": "stdout",
          "output_type": "stream",
          "text": [
            "abc_list[0]    -- a\n",
            "abc_list[-1]   -- f\n",
            "abc_list[1:4]  -- ['b', 'c', 'd']\n",
            "abc_list[3:]   -- ['d', 'e', 'f']\n",
            "abc_list[::-1] -- ['f', 'e', 'd', 'c', 'b', 'a']\n"
          ]
        }
      ]
    },
    {
      "cell_type": "code",
      "metadata": {
        "id": "CeAWYq7lWxvD",
        "outputId": "67a38e19-6140-4c3c-95ac-c241af017b61"
      },
      "source": [
        "#this is a way how to create a shallow copy\n",
        "abc_list_copy = abc_list[:]\n",
        "abc_list_copy"
      ],
      "execution_count": null,
      "outputs": [
        {
          "data": {
            "text/plain": [
              "['a', 'b', 'c', 'd', 'e', 'f']"
            ]
          },
          "execution_count": 15,
          "metadata": {},
          "output_type": "execute_result"
        }
      ]
    },
    {
      "cell_type": "code",
      "metadata": {
        "id": "ammjZ1gwWxvD",
        "outputId": "4cdc3bd9-7c78-4c7f-c6b3-904d76cf0d69"
      },
      "source": [
        "abc_list[0] = 1\n",
        "print(abc_list, abc_list_copy)"
      ],
      "execution_count": null,
      "outputs": [
        {
          "name": "stdout",
          "output_type": "stream",
          "text": [
            "[1, 'b', 'c', 'd', 'e', 'f'] ['a', 'b', 'c', 'd', 'e', 'f']\n"
          ]
        }
      ]
    },
    {
      "cell_type": "code",
      "metadata": {
        "id": "HL3S6QWZWxvD",
        "outputId": "71708fa7-363e-45ed-c3f9-eb53e671bd74"
      },
      "source": [
        "abc_list = abc_list + [100]\n",
        "print(abc_list)"
      ],
      "execution_count": null,
      "outputs": [
        {
          "name": "stdout",
          "output_type": "stream",
          "text": [
            "[1, 'b', 'c', 'd', 'e', 'f', 100]\n"
          ]
        }
      ]
    },
    {
      "cell_type": "markdown",
      "metadata": {
        "id": "aFox-O6qWxvE"
      },
      "source": [
        "### List methods"
      ]
    },
    {
      "cell_type": "code",
      "metadata": {
        "colab": {
          "base_uri": "https://localhost:8080/"
        },
        "id": "GYbSkWIXWxvE",
        "outputId": "64281b84-0ea2-4bc3-b9bd-ff9f5cb0f6bf"
      },
      "source": [
        "print(dir([1]))"
      ],
      "execution_count": null,
      "outputs": [
        {
          "output_type": "stream",
          "name": "stdout",
          "text": [
            "['__add__', '__class__', '__contains__', '__delattr__', '__delitem__', '__dir__', '__doc__', '__eq__', '__format__', '__ge__', '__getattribute__', '__getitem__', '__gt__', '__hash__', '__iadd__', '__imul__', '__init__', '__init_subclass__', '__iter__', '__le__', '__len__', '__lt__', '__mul__', '__ne__', '__new__', '__reduce__', '__reduce_ex__', '__repr__', '__reversed__', '__rmul__', '__setattr__', '__setitem__', '__sizeof__', '__str__', '__subclasshook__', 'append', 'clear', 'copy', 'count', 'extend', 'index', 'insert', 'pop', 'remove', 'reverse', 'sort']\n"
          ]
        }
      ]
    },
    {
      "cell_type": "markdown",
      "metadata": {
        "id": "6txOcIL7WxvE"
      },
      "source": [
        "## Tuple"
      ]
    },
    {
      "cell_type": "code",
      "metadata": {
        "id": "msFLJQhHWxvE",
        "outputId": "ee2449e0-679d-453a-cdd8-5d3fc6012b6f"
      },
      "source": [
        "my_tuple = (1,2,16,8)\n",
        "my_tuple"
      ],
      "execution_count": null,
      "outputs": [
        {
          "data": {
            "text/plain": [
              "(1, 2, 16, 8)"
            ]
          },
          "execution_count": 19,
          "metadata": {},
          "output_type": "execute_result"
        }
      ]
    },
    {
      "cell_type": "code",
      "metadata": {
        "id": "UTIfC2BbWxvE",
        "outputId": "1fe0190b-d72a-4989-a975-fb7c9c0b29f8"
      },
      "source": [
        "my_tuple[2]"
      ],
      "execution_count": null,
      "outputs": [
        {
          "data": {
            "text/plain": [
              "16"
            ]
          },
          "execution_count": 20,
          "metadata": {},
          "output_type": "execute_result"
        }
      ]
    },
    {
      "cell_type": "code",
      "metadata": {
        "id": "8Y1igT0XWxvE",
        "outputId": "a703ae0f-8374-4503-f4cb-96dc8e9a954c"
      },
      "source": [
        "my_tuple[2] = 4"
      ],
      "execution_count": null,
      "outputs": [
        {
          "ename": "TypeError",
          "evalue": "'tuple' object does not support item assignment",
          "output_type": "error",
          "traceback": [
            "\u001b[0;31m---------------------------------------------------------------------------\u001b[0m",
            "\u001b[0;31mTypeError\u001b[0m                                 Traceback (most recent call last)",
            "\u001b[0;32m<ipython-input-21-59bf66c5278d>\u001b[0m in \u001b[0;36m<module>\u001b[0;34m\u001b[0m\n\u001b[0;32m----> 1\u001b[0;31m \u001b[0mmy_tuple\u001b[0m\u001b[0;34m[\u001b[0m\u001b[0;36m2\u001b[0m\u001b[0;34m]\u001b[0m \u001b[0;34m=\u001b[0m \u001b[0;36m4\u001b[0m\u001b[0;34m\u001b[0m\u001b[0;34m\u001b[0m\u001b[0m\n\u001b[0m",
            "\u001b[0;31mTypeError\u001b[0m: 'tuple' object does not support item assignment"
          ]
        }
      ]
    },
    {
      "cell_type": "markdown",
      "metadata": {
        "id": "X8hkuZ2BWxvF"
      },
      "source": [
        "## Set"
      ]
    },
    {
      "cell_type": "code",
      "metadata": {
        "id": "ycDcWUeuWxvF",
        "outputId": "c7b74025-285b-4e63-9a08-644689c04373"
      },
      "source": [
        "my_set = {1,1,1,2,4,8,16,16}\n",
        "print(my_set)"
      ],
      "execution_count": null,
      "outputs": [
        {
          "name": "stdout",
          "output_type": "stream",
          "text": [
            "{1, 2, 4, 8, 16}\n"
          ]
        }
      ]
    },
    {
      "cell_type": "code",
      "metadata": {
        "id": "A6rPk1DGWxvF"
      },
      "source": [
        "my_set.add(5.0)\n",
        "my_set.add(False)"
      ],
      "execution_count": null,
      "outputs": []
    },
    {
      "cell_type": "code",
      "metadata": {
        "id": "79zGLuaDWxvF"
      },
      "source": [
        "my_list = [1, 2, 2, 3, 4, 5, 5, 7, 8]\n",
        "my_set = set(my_list)"
      ],
      "execution_count": null,
      "outputs": []
    },
    {
      "cell_type": "markdown",
      "metadata": {
        "id": "DeXyKpMvWxvF"
      },
      "source": [
        "## Dictionary"
      ]
    },
    {
      "cell_type": "code",
      "metadata": {
        "id": "TQmVnWcmWxvF"
      },
      "source": [
        "my_dictionary = {\n",
        "    \"name\" : \"Burj Khalifa\",\n",
        "    \"height_m\" : 830,\n",
        "    \"completed\" : True\n",
        "}"
      ],
      "execution_count": null,
      "outputs": []
    },
    {
      "cell_type": "code",
      "metadata": {
        "id": "gUqUVTXFWxvG",
        "outputId": "ad035504-5376-4e4a-bdf6-8d9b5e1578d1"
      },
      "source": [
        "my_dictionary[\"name\"]"
      ],
      "execution_count": null,
      "outputs": [
        {
          "data": {
            "text/plain": [
              "'Burj Khalifa'"
            ]
          },
          "execution_count": 26,
          "metadata": {},
          "output_type": "execute_result"
        }
      ]
    },
    {
      "cell_type": "code",
      "metadata": {
        "id": "bC0UO5R1WxvG",
        "outputId": "be95328e-64e2-414b-c9d8-ce2c20006cbe"
      },
      "source": [
        "my_dictionary.keys(), my_dictionary.values()"
      ],
      "execution_count": null,
      "outputs": [
        {
          "data": {
            "text/plain": [
              "(dict_keys(['name', 'height_m', 'completed']),\n",
              " dict_values(['Burj Khalifa', 830, True]))"
            ]
          },
          "execution_count": 27,
          "metadata": {},
          "output_type": "execute_result"
        }
      ]
    },
    {
      "cell_type": "code",
      "metadata": {
        "id": "U-K3c6BrWxvG",
        "outputId": "b33aab11-0105-4883-cc93-be6162fb3af9"
      },
      "source": [
        "my_dictionary['height_m'] = 829.8\n",
        "print(my_dictionary)"
      ],
      "execution_count": null,
      "outputs": [
        {
          "name": "stdout",
          "output_type": "stream",
          "text": [
            "{'name': 'Burj Khalifa', 'height_m': 829.8, 'completed': True}\n"
          ]
        }
      ]
    },
    {
      "cell_type": "code",
      "metadata": {
        "id": "Hsx2Miz0WxvG",
        "outputId": "fd41401a-ae3c-4f2d-ba86-f4f328ee8120"
      },
      "source": [
        "my_dictionary['country'] = 'UAE'\n",
        "print(my_dictionary)"
      ],
      "execution_count": null,
      "outputs": [
        {
          "name": "stdout",
          "output_type": "stream",
          "text": [
            "{'name': 'Burj Khalifa', 'height_m': 829.8, 'completed': True, 'country': 'UAE'}\n"
          ]
        }
      ]
    },
    {
      "cell_type": "code",
      "metadata": {
        "id": "yu0vqjesWxvG",
        "outputId": "dfd72e75-ed3c-426d-ba1c-764a40da9794"
      },
      "source": [
        "del my_dictionary['completed']\n",
        "print(my_dictionary)"
      ],
      "execution_count": null,
      "outputs": [
        {
          "name": "stdout",
          "output_type": "stream",
          "text": [
            "{'name': 'Burj Khalifa', 'height_m': 829.8, 'country': 'UAE'}\n"
          ]
        }
      ]
    },
    {
      "cell_type": "markdown",
      "metadata": {
        "id": "nSCugEB0WxvG"
      },
      "source": [
        "### Dictionary methods"
      ]
    },
    {
      "cell_type": "code",
      "metadata": {
        "id": "n1suG8NYWxvH",
        "outputId": "49b31be8-7665-4ded-8ed8-a5d4f437f87a"
      },
      "source": [
        "print(dir(my_dictionary))"
      ],
      "execution_count": null,
      "outputs": [
        {
          "name": "stdout",
          "output_type": "stream",
          "text": [
            "['__class__', '__contains__', '__delattr__', '__delitem__', '__dir__', '__doc__', '__eq__', '__format__', '__ge__', '__getattribute__', '__getitem__', '__gt__', '__hash__', '__init__', '__init_subclass__', '__iter__', '__le__', '__len__', '__lt__', '__ne__', '__new__', '__reduce__', '__reduce_ex__', '__repr__', '__reversed__', '__setattr__', '__setitem__', '__sizeof__', '__str__', '__subclasshook__', 'clear', 'copy', 'fromkeys', 'get', 'items', 'keys', 'pop', 'popitem', 'setdefault', 'update', 'values']\n"
          ]
        }
      ]
    },
    {
      "cell_type": "markdown",
      "metadata": {
        "id": "TNI5MJiKWxvH"
      },
      "source": [
        "# Conditions and Logic"
      ]
    },
    {
      "cell_type": "code",
      "metadata": {
        "id": "-1u7qxvQWxvH",
        "outputId": "529a6964-ee70-4b0d-dd46-b878566702e7"
      },
      "source": [
        "if True:\n",
        "    print('True')\n",
        "if False:\n",
        "    print('False')"
      ],
      "execution_count": null,
      "outputs": [
        {
          "name": "stdout",
          "output_type": "stream",
          "text": [
            "True\n"
          ]
        }
      ]
    },
    {
      "cell_type": "code",
      "metadata": {
        "id": "gVjgev8xWxvH",
        "outputId": "326ba21d-dbdf-4359-f714-03f93cf48ac3"
      },
      "source": [
        "my_hand = \"paper\"\n",
        "opponents_hand = \"paper\"\n",
        "if opponents_hand == \"rock\":\n",
        "    print(\"We won\")\n",
        "elif opponents_hand == \"rock\":\n",
        "    print(\"Draw\")\n",
        "else:\n",
        "    print(\"We lost!\")"
      ],
      "execution_count": null,
      "outputs": [
        {
          "name": "stdout",
          "output_type": "stream",
          "text": [
            "We lost!\n"
          ]
        }
      ]
    },
    {
      "cell_type": "code",
      "metadata": {
        "id": "AmwQ_c3lWxvH",
        "outputId": "26be7d71-5624-4010-ce10-98c03e864b60"
      },
      "source": [
        "my_number = 10\n",
        "if my_number > 5:\n",
        "    print('number greater than 5')\n",
        "\n",
        "if my_number <= 8:\n",
        "    print('number less or equal to 8')"
      ],
      "execution_count": null,
      "outputs": [
        {
          "name": "stdout",
          "output_type": "stream",
          "text": [
            "number greater than 5\n"
          ]
        }
      ]
    },
    {
      "cell_type": "code",
      "metadata": {
        "id": "-Djdl3DyWxvI"
      },
      "source": [
        "my_list = ['green','yellow','red']\n",
        "color = 'purple'\n",
        "if color in my_list:\n",
        "    print(f'{color} is in list')"
      ],
      "execution_count": null,
      "outputs": []
    },
    {
      "cell_type": "code",
      "metadata": {
        "id": "CsCzDCRNWxvI",
        "outputId": "80d335c1-5ad2-47d7-882b-6a59624ddf2d"
      },
      "source": [
        "my_list = ['green','yellow','red']\n",
        "color = 'yellow'\n",
        "if color in my_list:\n",
        "    print(f'{color} is in list')"
      ],
      "execution_count": null,
      "outputs": [
        {
          "name": "stdout",
          "output_type": "stream",
          "text": [
            "yellow is in list\n"
          ]
        }
      ]
    },
    {
      "cell_type": "markdown",
      "metadata": {
        "id": "CcE9ZQmvWxvI"
      },
      "source": [
        "# Loops"
      ]
    },
    {
      "cell_type": "markdown",
      "metadata": {
        "id": "qU_M3_H6WxvI"
      },
      "source": [
        "### For loop"
      ]
    },
    {
      "cell_type": "code",
      "metadata": {
        "id": "yIqis7ZQWxvI",
        "outputId": "73db252d-6905-4276-9875-4802007463a6"
      },
      "source": [
        "my_value = 1\n",
        "for i in range(3):\n",
        "    my_value += 2\n",
        "print(my_value)"
      ],
      "execution_count": null,
      "outputs": [
        {
          "name": "stdout",
          "output_type": "stream",
          "text": [
            "7\n"
          ]
        }
      ]
    },
    {
      "cell_type": "code",
      "metadata": {
        "id": "5QQ1WrKtWxvI",
        "outputId": "df759cf8-dfbd-43f2-b3b1-0a6dbbe00a77"
      },
      "source": [
        "my_value = 1\n",
        "print(my_value)\n",
        "for i in range(3):\n",
        "    my_value += 2\n",
        "    print(\"loop\", my_value)\n",
        "print(my_value)"
      ],
      "execution_count": null,
      "outputs": [
        {
          "name": "stdout",
          "output_type": "stream",
          "text": [
            "1\n",
            "loop 3\n",
            "loop 5\n",
            "loop 7\n",
            "7\n"
          ]
        }
      ]
    },
    {
      "cell_type": "markdown",
      "metadata": {
        "id": "sBI48s2KWxvJ"
      },
      "source": [
        "### Break"
      ]
    },
    {
      "cell_type": "code",
      "metadata": {
        "id": "06PNFOaoWxvJ",
        "outputId": "2986b402-4728-4f08-863d-d519e39bce04"
      },
      "source": [
        "my_val = 1\n",
        "for i in range(3):\n",
        "    my_val += 1\n",
        "    if my_val == 3:\n",
        "        break\n",
        "    print(\"in\", my_val)\n",
        "print(\"out\", my_val)"
      ],
      "execution_count": null,
      "outputs": [
        {
          "name": "stdout",
          "output_type": "stream",
          "text": [
            "in 2\n",
            "out 3\n"
          ]
        }
      ]
    },
    {
      "cell_type": "markdown",
      "metadata": {
        "id": "JWzWfmCOWxvJ"
      },
      "source": [
        "### Continue"
      ]
    },
    {
      "cell_type": "code",
      "metadata": {
        "id": "CqUY0DwqWxvJ",
        "outputId": "bdade7a4-5020-4a8c-89a4-1c6f53f28de6"
      },
      "source": [
        "my_val = 1\n",
        "for i in range(3):\n",
        "    my_val += 1\n",
        "    if my_val == 3:\n",
        "        continue\n",
        "    print(\"in\", my_val)\n",
        "print(\"out\", my_val)"
      ],
      "execution_count": null,
      "outputs": [
        {
          "name": "stdout",
          "output_type": "stream",
          "text": [
            "in 2\n",
            "in 4\n",
            "out 4\n"
          ]
        }
      ]
    },
    {
      "cell_type": "markdown",
      "metadata": {
        "id": "jMcBvZFxWxvJ"
      },
      "source": [
        "### Pass"
      ]
    },
    {
      "cell_type": "code",
      "metadata": {
        "id": "VVKUa8ScWxvJ",
        "outputId": "4ce446e2-6a52-4eb2-ca10-cb9dcd09a368"
      },
      "source": [
        "my_val = 1\n",
        "for i in range(3):\n",
        "    my_val += 1\n",
        "    if my_val == 3:\n",
        "        pass\n",
        "    print(\"in\", my_val)\n",
        "print(\"out\", my_val)"
      ],
      "execution_count": null,
      "outputs": [
        {
          "name": "stdout",
          "output_type": "stream",
          "text": [
            "in 2\n",
            "in 3\n",
            "in 4\n",
            "out 4\n"
          ]
        }
      ]
    },
    {
      "cell_type": "markdown",
      "metadata": {
        "id": "-ZlYKtYUWxvK"
      },
      "source": [
        "### For-else"
      ]
    },
    {
      "cell_type": "code",
      "metadata": {
        "id": "ziIltSxKWxvK",
        "outputId": "89935f0b-0a17-4e07-c248-d65e19da4514"
      },
      "source": [
        "my_val = 1\n",
        "for i in range(3):\n",
        "    my_val += 1\n",
        "    if my_val == 3:\n",
        "        break\n",
        "    print(\"in\", my_val)\n",
        "else:\n",
        "    print(\"else\")\n",
        "print(\"out\", my_val)"
      ],
      "execution_count": null,
      "outputs": [
        {
          "name": "stdout",
          "output_type": "stream",
          "text": [
            "in 2\n",
            "out 3\n"
          ]
        }
      ]
    },
    {
      "cell_type": "code",
      "metadata": {
        "id": "fBXB0uNZWxvK",
        "outputId": "b432f2f0-df46-4005-ee44-9d950aaa0544"
      },
      "source": [
        "my_val = 1\n",
        "for i in range(3):\n",
        "    my_val += 1\n",
        "    if my_val == 3:\n",
        "        pass\n",
        "    print(\"in\", my_val)\n",
        "else:\n",
        "    print(\"else\")\n",
        "print(\"out\", my_val)"
      ],
      "execution_count": null,
      "outputs": [
        {
          "name": "stdout",
          "output_type": "stream",
          "text": [
            "in 2\n",
            "in 3\n",
            "in 4\n",
            "else\n",
            "out 4\n"
          ]
        }
      ]
    },
    {
      "cell_type": "markdown",
      "metadata": {
        "id": "-von4FlsWxvK"
      },
      "source": [
        "### Iterate through lists"
      ]
    },
    {
      "cell_type": "code",
      "metadata": {
        "id": "W6GC2jNUWxvK",
        "outputId": "bdb321a9-805d-4a9b-d6f7-bb6c517ef3f5"
      },
      "source": [
        "my_list = ['green','yellow','red']\n",
        "for idx, color in enumerate(my_list):\n",
        "    print(idx, color)"
      ],
      "execution_count": null,
      "outputs": [
        {
          "name": "stdout",
          "output_type": "stream",
          "text": [
            "0 green\n",
            "1 yellow\n",
            "2 red\n"
          ]
        }
      ]
    },
    {
      "cell_type": "markdown",
      "metadata": {
        "id": "U7PSy98LWxvK"
      },
      "source": [
        "### Comprehensions"
      ]
    },
    {
      "cell_type": "code",
      "metadata": {
        "id": "q5obd8pMWxvK",
        "outputId": "93e43db5-153d-48a0-fa01-717f72206700"
      },
      "source": [
        "temp_list = []\n",
        "for x in range(10):\n",
        "    temp_list.append(x ** 2)\n",
        "temp_list"
      ],
      "execution_count": null,
      "outputs": [
        {
          "data": {
            "text/plain": [
              "[0, 1, 4, 9, 16, 25, 36, 49, 64, 81]"
            ]
          },
          "execution_count": 45,
          "metadata": {},
          "output_type": "execute_result"
        }
      ]
    },
    {
      "cell_type": "code",
      "metadata": {
        "id": "ZsW1PIQpWxvL",
        "outputId": "bc3ecfc3-0b93-4bee-a368-8ffee53b3dd7"
      },
      "source": [
        "temp_list = [x ** 2 for x in range(10)]\n",
        "temp_list"
      ],
      "execution_count": null,
      "outputs": [
        {
          "data": {
            "text/plain": [
              "[0, 1, 4, 9, 16, 25, 36, 49, 64, 81]"
            ]
          },
          "execution_count": 46,
          "metadata": {},
          "output_type": "execute_result"
        }
      ]
    },
    {
      "cell_type": "code",
      "metadata": {
        "id": "fkzu0rHNWxvL",
        "outputId": "bbede8d5-4346-46df-dd99-696ef8847a8f"
      },
      "source": [
        "dict1 = {'a': 1, 'b': 2, 'c': 3, 'd': 4}\n",
        "double_dict1 = {}\n",
        "for k,v in dict1.items():\n",
        "    double_dict1[k] = v*2\n",
        "double_dict1"
      ],
      "execution_count": null,
      "outputs": [
        {
          "data": {
            "text/plain": [
              "{'a': 2, 'b': 4, 'c': 6, 'd': 8}"
            ]
          },
          "execution_count": 47,
          "metadata": {},
          "output_type": "execute_result"
        }
      ]
    },
    {
      "cell_type": "code",
      "metadata": {
        "id": "d8f2Jl-eWxvL",
        "outputId": "67aaade5-e193-43e2-96ca-5dc5ce19757b"
      },
      "source": [
        "dict1 = {'a': 1, 'b': 2, 'c': 3, 'd': 4}\n",
        "double_dict1 = {k:v*2 for (k,v) in dict1.items()}\n",
        "double_dict1"
      ],
      "execution_count": null,
      "outputs": [
        {
          "data": {
            "text/plain": [
              "{'a': 2, 'b': 4, 'c': 6, 'd': 8}"
            ]
          },
          "execution_count": 48,
          "metadata": {},
          "output_type": "execute_result"
        }
      ]
    },
    {
      "cell_type": "code",
      "metadata": {
        "id": "j7qqQtPMWxvL",
        "outputId": "a6f59e12-bfcc-4384-bf67-06c8ce10b7c3"
      },
      "source": [
        "languages = ['Java', 'Python', 'JS']\n",
        "versions = [14, 3, 6]\n",
        "result = zip(languages, versions)\n",
        "list(result)"
      ],
      "execution_count": null,
      "outputs": [
        {
          "data": {
            "text/plain": [
              "[('Java', 14), ('Python', 3), ('JS', 6)]"
            ]
          },
          "execution_count": 49,
          "metadata": {},
          "output_type": "execute_result"
        }
      ]
    },
    {
      "cell_type": "markdown",
      "metadata": {
        "id": "sahSUc-gWxvL"
      },
      "source": [
        "### While loop"
      ]
    },
    {
      "cell_type": "code",
      "metadata": {
        "id": "Su0FEMVKWxvL",
        "outputId": "bead67cb-a20c-40f8-e6d8-50811cb56664"
      },
      "source": [
        "my_value = 1\n",
        "while my_value <= 10:\n",
        "    my_value += 2\n",
        "print(my_value)"
      ],
      "execution_count": null,
      "outputs": [
        {
          "name": "stdout",
          "output_type": "stream",
          "text": [
            "11\n"
          ]
        }
      ]
    },
    {
      "cell_type": "code",
      "metadata": {
        "id": "mvjlQ1lRWxvM",
        "outputId": "f2aa68cc-1dad-44d1-a21e-c081bf031851"
      },
      "source": [
        "my_value = 1\n",
        "print(my_value)\n",
        "while my_value <= 10:\n",
        "    my_value += 2\n",
        "    print(\"loop\", my_value)\n",
        "print(my_value)"
      ],
      "execution_count": null,
      "outputs": [
        {
          "name": "stdout",
          "output_type": "stream",
          "text": [
            "1\n",
            "loop 3\n",
            "loop 5\n",
            "loop 7\n",
            "loop 9\n",
            "loop 11\n",
            "11\n"
          ]
        }
      ]
    },
    {
      "cell_type": "markdown",
      "metadata": {
        "id": "Osksb8bxWxvM"
      },
      "source": [
        "# Error Handling"
      ]
    },
    {
      "cell_type": "code",
      "metadata": {
        "id": "BpA8h7h9WxvM",
        "outputId": "7e63992f-e05a-4945-8655-f5f8d8c1adc9"
      },
      "source": [
        "for i in range(-1,2):\n",
        "    print(i,1/i)"
      ],
      "execution_count": null,
      "outputs": [
        {
          "name": "stdout",
          "output_type": "stream",
          "text": [
            "-1 -1.0\n"
          ]
        },
        {
          "ename": "ZeroDivisionError",
          "evalue": "division by zero",
          "output_type": "error",
          "traceback": [
            "\u001b[0;31m---------------------------------------------------------------------------\u001b[0m",
            "\u001b[0;31mZeroDivisionError\u001b[0m                         Traceback (most recent call last)",
            "\u001b[0;32m<ipython-input-52-9a18ca2e9f43>\u001b[0m in \u001b[0;36m<module>\u001b[0;34m\u001b[0m\n\u001b[1;32m      1\u001b[0m \u001b[0;32mfor\u001b[0m \u001b[0mi\u001b[0m \u001b[0;32min\u001b[0m \u001b[0mrange\u001b[0m\u001b[0;34m(\u001b[0m\u001b[0;34m-\u001b[0m\u001b[0;36m1\u001b[0m\u001b[0;34m,\u001b[0m\u001b[0;36m2\u001b[0m\u001b[0;34m)\u001b[0m\u001b[0;34m:\u001b[0m\u001b[0;34m\u001b[0m\u001b[0;34m\u001b[0m\u001b[0m\n\u001b[0;32m----> 2\u001b[0;31m     \u001b[0mprint\u001b[0m\u001b[0;34m(\u001b[0m\u001b[0mi\u001b[0m\u001b[0;34m,\u001b[0m\u001b[0;36m1\u001b[0m\u001b[0;34m/\u001b[0m\u001b[0mi\u001b[0m\u001b[0;34m)\u001b[0m\u001b[0;34m\u001b[0m\u001b[0;34m\u001b[0m\u001b[0m\n\u001b[0m",
            "\u001b[0;31mZeroDivisionError\u001b[0m: division by zero"
          ]
        }
      ]
    },
    {
      "cell_type": "code",
      "metadata": {
        "id": "O8uvlkjuWxvM",
        "outputId": "ab168ef8-5103-4fe0-a7f1-3ecd4b011d81"
      },
      "source": [
        "for i in range(-1, 2):\n",
        "    try:\n",
        "        print(i,1/i)\n",
        "    except Exception as e:\n",
        "        #only if error occurs\n",
        "        print(f\"Error: {e}\")"
      ],
      "execution_count": null,
      "outputs": [
        {
          "name": "stdout",
          "output_type": "stream",
          "text": [
            "-1 -1.0\n",
            "Error: division by zero\n",
            "1 1.0\n"
          ]
        }
      ]
    },
    {
      "cell_type": "markdown",
      "metadata": {
        "id": "2Z6dD5QOWxvM"
      },
      "source": [
        "# Functions"
      ]
    },
    {
      "cell_type": "code",
      "metadata": {
        "id": "9hrsiHXXWxvM",
        "outputId": "354a05d5-efb3-4c73-a1b1-5c26bc85cff2"
      },
      "source": [
        "def hello_function():\n",
        "    \"prints Hello World\"\n",
        "    print(\"Hello World\")\n",
        "\n",
        "hello_function()"
      ],
      "execution_count": null,
      "outputs": [
        {
          "name": "stdout",
          "output_type": "stream",
          "text": [
            "Hello World\n"
          ]
        }
      ]
    },
    {
      "cell_type": "code",
      "metadata": {
        "id": "_exsGfAeWxvM",
        "outputId": "10c6266d-184d-4aab-c6b1-60b386aca1bf"
      },
      "source": [
        "def print_sum(a):\n",
        "    print(a+a*a+a*a*a)\n",
        "\n",
        "print_sum(1)\n",
        "print_sum(10)\n",
        "print_sum(-2)"
      ],
      "execution_count": null,
      "outputs": [
        {
          "name": "stdout",
          "output_type": "stream",
          "text": [
            "3\n",
            "1110\n",
            "-6\n"
          ]
        }
      ]
    },
    {
      "cell_type": "code",
      "metadata": {
        "id": "TqPBI8l1WxvN",
        "outputId": "54544961-1dbf-4453-e950-270019449f03"
      },
      "source": [
        "help(hello_function)"
      ],
      "execution_count": null,
      "outputs": [
        {
          "name": "stdout",
          "output_type": "stream",
          "text": [
            "Help on function hello_function in module __main__:\n",
            "\n",
            "hello_function()\n",
            "    prints Hello World\n",
            "\n"
          ]
        }
      ]
    },
    {
      "cell_type": "code",
      "metadata": {
        "id": "E8pAJYduWxvN",
        "outputId": "2e612de8-2fde-42ca-aa47-4398587ba024"
      },
      "source": [
        "def calculate_sum(a):\n",
        "    return a+a*a+a*a*a\n",
        "\n",
        "result = calculate_sum(0.5)\n",
        "print(result)\n",
        "\n",
        "print(calculate_sum(3))"
      ],
      "execution_count": null,
      "outputs": [
        {
          "name": "stdout",
          "output_type": "stream",
          "text": [
            "0.875\n",
            "39\n"
          ]
        }
      ]
    },
    {
      "cell_type": "code",
      "metadata": {
        "id": "dQS6qUamWxvN",
        "outputId": "ff9b54f0-83d3-4d8a-d233-d2ff2ae537f6"
      },
      "source": [
        "##calculate_sum returns None\n",
        "def calculate_sum(a):\n",
        "    a+a*a+a*a*a\n",
        "\n",
        "print(calculate_sum(100))"
      ],
      "execution_count": null,
      "outputs": [
        {
          "name": "stdout",
          "output_type": "stream",
          "text": [
            "None\n"
          ]
        }
      ]
    },
    {
      "cell_type": "code",
      "metadata": {
        "id": "FRfsRfYEWxvN",
        "outputId": "82b57a1d-8594-41bd-ae0a-a040ebc96dec"
      },
      "source": [
        "def calculate_sum(a, b=1, c=10):\n",
        "    return a+b+2*c\n",
        "print(calculate_sum(1,2,3))\n",
        "print(calculate_sum(1))\n",
        "print(calculate_sum())"
      ],
      "execution_count": null,
      "outputs": [
        {
          "name": "stdout",
          "output_type": "stream",
          "text": [
            "9\n",
            "22\n"
          ]
        },
        {
          "ename": "TypeError",
          "evalue": "calculate_sum() missing 1 required positional argument: 'a'",
          "output_type": "error",
          "traceback": [
            "\u001b[0;31m---------------------------------------------------------------------------\u001b[0m",
            "\u001b[0;31mTypeError\u001b[0m                                 Traceback (most recent call last)",
            "\u001b[0;32m<ipython-input-59-309fd19e1a41>\u001b[0m in \u001b[0;36m<module>\u001b[0;34m\u001b[0m\n\u001b[1;32m      3\u001b[0m \u001b[0mprint\u001b[0m\u001b[0;34m(\u001b[0m\u001b[0mcalculate_sum\u001b[0m\u001b[0;34m(\u001b[0m\u001b[0;36m1\u001b[0m\u001b[0;34m,\u001b[0m\u001b[0;36m2\u001b[0m\u001b[0;34m,\u001b[0m\u001b[0;36m3\u001b[0m\u001b[0;34m)\u001b[0m\u001b[0;34m)\u001b[0m\u001b[0;34m\u001b[0m\u001b[0;34m\u001b[0m\u001b[0m\n\u001b[1;32m      4\u001b[0m \u001b[0mprint\u001b[0m\u001b[0;34m(\u001b[0m\u001b[0mcalculate_sum\u001b[0m\u001b[0;34m(\u001b[0m\u001b[0;36m1\u001b[0m\u001b[0;34m)\u001b[0m\u001b[0;34m)\u001b[0m\u001b[0;34m\u001b[0m\u001b[0;34m\u001b[0m\u001b[0m\n\u001b[0;32m----> 5\u001b[0;31m \u001b[0mprint\u001b[0m\u001b[0;34m(\u001b[0m\u001b[0mcalculate_sum\u001b[0m\u001b[0;34m(\u001b[0m\u001b[0;34m)\u001b[0m\u001b[0;34m)\u001b[0m\u001b[0;34m\u001b[0m\u001b[0;34m\u001b[0m\u001b[0m\n\u001b[0m",
            "\u001b[0;31mTypeError\u001b[0m: calculate_sum() missing 1 required positional argument: 'a'"
          ]
        }
      ]
    },
    {
      "cell_type": "markdown",
      "metadata": {
        "id": "pLwJSoxQWxvN"
      },
      "source": [
        "### args, kwargs"
      ]
    },
    {
      "cell_type": "code",
      "metadata": {
        "id": "b0XmFAtzWxvN",
        "outputId": "70a1d25a-b823-436e-ffe7-c688063136e8"
      },
      "source": [
        "def concatenate_args(*args):\n",
        "    result = \"\"\n",
        "    for arg in args:\n",
        "        result += arg + '_'\n",
        "    print(result)\n",
        "\n",
        "concatenate_args(\"power\", \"of\", \"args\")"
      ],
      "execution_count": null,
      "outputs": [
        {
          "name": "stdout",
          "output_type": "stream",
          "text": [
            "power_of_args_\n"
          ]
        }
      ]
    },
    {
      "cell_type": "code",
      "metadata": {
        "id": "UoWkP_BDWxvO",
        "outputId": "2b48f09c-080f-47e5-a807-dcc2f1e244ac"
      },
      "source": [
        "def concatenate_kwargs(**kwargs):\n",
        "    result = \"\"\n",
        "    for key, value in kwargs.items():\n",
        "        result += key + \"_\" + value + \"===\"\n",
        "    print(result)\n",
        "\n",
        "concatenate_kwargs(first ='Hello', last='Python!')"
      ],
      "execution_count": null,
      "outputs": [
        {
          "name": "stdout",
          "output_type": "stream",
          "text": [
            "first_Hello===last_Python!===\n"
          ]
        }
      ]
    },
    {
      "cell_type": "code",
      "metadata": {
        "id": "wYS2OMTCWxvO",
        "outputId": "31d7c9e0-3212-4c27-f122-996bd33816a6"
      },
      "source": [
        "def concatenate_args_kwargs(first_arg, *args, **kwargs):\n",
        "    print(first_arg)\n",
        "    print('args:', args)\n",
        "    print('kwargs:', kwargs)\n",
        "\n",
        "concatenate_args_kwargs(\"abc\", \"def\", \"xyz\", name=\"John\", age=46)"
      ],
      "execution_count": null,
      "outputs": [
        {
          "name": "stdout",
          "output_type": "stream",
          "text": [
            "abc\n",
            "args: ('def', 'xyz')\n",
            "kwargs: {'name': 'John', 'age': 46}\n"
          ]
        }
      ]
    },
    {
      "cell_type": "markdown",
      "metadata": {
        "id": "JFMEOG4UWxvO"
      },
      "source": [
        "### Lambda functions"
      ]
    },
    {
      "cell_type": "code",
      "metadata": {
        "id": "a_GbDQIxWxvO",
        "outputId": "eae28d64-6d39-4491-fe01-f7dd00ccd9e8"
      },
      "source": [
        "def calculate_sum(a):\n",
        "    return a+a*a+a*a*a\n",
        "\n",
        "print(calculate_sum(3))"
      ],
      "execution_count": null,
      "outputs": [
        {
          "name": "stdout",
          "output_type": "stream",
          "text": [
            "39\n"
          ]
        }
      ]
    },
    {
      "cell_type": "code",
      "metadata": {
        "id": "6UWp20mRWxvO",
        "outputId": "09ec8392-9c12-4706-e61f-32b170612bf3"
      },
      "source": [
        "calculate_sum = lambda a: a+a*a+a*a*a\n",
        "print(calculate_sum(3))"
      ],
      "execution_count": null,
      "outputs": [
        {
          "name": "stdout",
          "output_type": "stream",
          "text": [
            "39\n"
          ]
        }
      ]
    },
    {
      "cell_type": "code",
      "metadata": {
        "id": "Z8_hgQnQWxvO",
        "outputId": "104da9cd-1933-487d-b9c3-c7c7516e0953"
      },
      "source": [
        "list_1 = [1,2,3,4]\n",
        "\n",
        "#filter\n",
        "filtered = filter(lambda x: x%2==0, list_1)\n",
        "print(list(filtered))"
      ],
      "execution_count": null,
      "outputs": [
        {
          "name": "stdout",
          "output_type": "stream",
          "text": [
            "[2, 4]\n"
          ]
        }
      ]
    },
    {
      "cell_type": "code",
      "metadata": {
        "id": "Pyq2kFEKWxvO",
        "outputId": "eeb160ca-54db-429b-e635-d34e9673456b"
      },
      "source": [
        "#map\n",
        "mapped = map(lambda x: x*x, list_1)\n",
        "print(list(mapped))"
      ],
      "execution_count": null,
      "outputs": [
        {
          "name": "stdout",
          "output_type": "stream",
          "text": [
            "[1, 4, 9, 16]\n"
          ]
        }
      ]
    },
    {
      "cell_type": "markdown",
      "metadata": {
        "id": "Ig_6kmr-WxvP"
      },
      "source": [
        "# Practise tasks"
      ]
    },
    {
      "cell_type": "markdown",
      "metadata": {
        "id": "xVYTc7aYWxvP"
      },
      "source": [
        "Write a program to remove characters from a string starting from zero up to n and return a new string"
      ]
    },
    {
      "cell_type": "code",
      "metadata": {
        "id": "odAr6e7zWxvP"
      },
      "source": [
        "\n",
        "def remove_characters(string, n):\n",
        "  for i in range(n):\n",
        "      string=string[-1]\n",
        "  return string"
      ],
      "execution_count": null,
      "outputs": []
    },
    {
      "cell_type": "code",
      "metadata": {
        "id": "nVHPoA6ecJOD"
      },
      "source": [],
      "execution_count": null,
      "outputs": []
    },
    {
      "cell_type": "code",
      "metadata": {
        "colab": {
          "base_uri": "https://localhost:8080/",
          "height": 287
        },
        "id": "Y1YtkJo0WxvP",
        "outputId": "79c6e1ab-e129-4d02-cc24-9203358422e2"
      },
      "source": [
        "assert(remove_characters(\"Hello World\", 5) == \"World\")\n",
        "assert(remove_characters(\"python\", 1) == \"ython\")"
      ],
      "execution_count": null,
      "outputs": [
        {
          "output_type": "error",
          "ename": "TypeError",
          "evalue": "ignored",
          "traceback": [
            "\u001b[0;31m---------------------------------------------------------------------------\u001b[0m",
            "\u001b[0;31mTypeError\u001b[0m                                 Traceback (most recent call last)",
            "\u001b[0;32m<ipython-input-21-30136d910ed7>\u001b[0m in \u001b[0;36m<module>\u001b[0;34m()\u001b[0m\n\u001b[0;32m----> 1\u001b[0;31m \u001b[0;32massert\u001b[0m\u001b[0;34m(\u001b[0m\u001b[0mremove_characters\u001b[0m\u001b[0;34m(\u001b[0m\u001b[0;34m\"Hello World\"\u001b[0m\u001b[0;34m,\u001b[0m \u001b[0;36m5\u001b[0m\u001b[0;34m)\u001b[0m \u001b[0;34m==\u001b[0m \u001b[0;34m\"World\"\u001b[0m\u001b[0;34m)\u001b[0m\u001b[0;34m\u001b[0m\u001b[0;34m\u001b[0m\u001b[0m\n\u001b[0m\u001b[1;32m      2\u001b[0m \u001b[0;32massert\u001b[0m\u001b[0;34m(\u001b[0m\u001b[0mremove_characters\u001b[0m\u001b[0;34m(\u001b[0m\u001b[0;34m\"python\"\u001b[0m\u001b[0;34m,\u001b[0m \u001b[0;36m1\u001b[0m\u001b[0;34m)\u001b[0m \u001b[0;34m==\u001b[0m \u001b[0;34m\"ython\"\u001b[0m\u001b[0;34m)\u001b[0m\u001b[0;34m\u001b[0m\u001b[0;34m\u001b[0m\u001b[0m\n",
            "\u001b[0;32m<ipython-input-20-a30778192aa2>\u001b[0m in \u001b[0;36mremove_characters\u001b[0;34m(string, n)\u001b[0m\n\u001b[1;32m      2\u001b[0m \u001b[0;32mdef\u001b[0m \u001b[0mremove_characters\u001b[0m\u001b[0;34m(\u001b[0m\u001b[0mstring\u001b[0m\u001b[0;34m,\u001b[0m \u001b[0mn\u001b[0m\u001b[0;34m)\u001b[0m\u001b[0;34m:\u001b[0m\u001b[0;34m\u001b[0m\u001b[0;34m\u001b[0m\u001b[0m\n\u001b[1;32m      3\u001b[0m   \u001b[0;32mfor\u001b[0m \u001b[0mi\u001b[0m \u001b[0;32min\u001b[0m \u001b[0mrange\u001b[0m\u001b[0;34m(\u001b[0m\u001b[0mn\u001b[0m\u001b[0;34m)\u001b[0m\u001b[0;34m:\u001b[0m\u001b[0;34m\u001b[0m\u001b[0;34m\u001b[0m\u001b[0m\n\u001b[0;32m----> 4\u001b[0;31m       \u001b[0;32mdel\u001b[0m \u001b[0mstring\u001b[0m\u001b[0;34m[\u001b[0m\u001b[0;34m-\u001b[0m\u001b[0;36m1\u001b[0m\u001b[0;34m]\u001b[0m\u001b[0;34m\u001b[0m\u001b[0;34m\u001b[0m\u001b[0m\n\u001b[0m\u001b[1;32m      5\u001b[0m   \u001b[0;32mreturn\u001b[0m \u001b[0mstring\u001b[0m\u001b[0;34m\u001b[0m\u001b[0;34m\u001b[0m\u001b[0m\n",
            "\u001b[0;31mTypeError\u001b[0m: 'str' object doesn't support item deletion"
          ]
        }
      ]
    },
    {
      "cell_type": "markdown",
      "metadata": {
        "id": "xR4KX7A7WxvP"
      },
      "source": [
        "Write a program to remove duplicates from a list"
      ]
    },
    {
      "cell_type": "code",
      "metadata": {
        "id": "r4s6tOxJWxvP"
      },
      "source": [
        "def remove_duplicates(duplicate):\n",
        "    #your code"
      ],
      "execution_count": null,
      "outputs": []
    },
    {
      "cell_type": "code",
      "metadata": {
        "id": "Ccx2ALFxWxvP"
      },
      "source": [
        "assert(remove_characters([1,1,2,3,4,4]) == [1,2,3,4])\n",
        "assert(remove_characters([\"a\",\"a\"]) == [\"a\"])"
      ],
      "execution_count": null,
      "outputs": []
    },
    {
      "cell_type": "markdown",
      "metadata": {
        "id": "ePjNTUHKWxvQ"
      },
      "source": [
        "# Leetcode tasks"
      ]
    },
    {
      "cell_type": "markdown",
      "metadata": {
        "id": "jp16oADTWxvR"
      },
      "source": [
        "### Strings"
      ]
    },
    {
      "cell_type": "markdown",
      "metadata": {
        "id": "yvjg5VS0WxvR"
      },
      "source": [
        "58. Length of Last Word\n",
        "\n",
        "Given a string s consisting of some words separated by some number of spaces, return the length of the last word in the string. A word is a maximal substring consisting of non-space characters only.\n",
        "\n",
        "https://leetcode.com/problems/length-of-last-word/"
      ]
    },
    {
      "cell_type": "code",
      "metadata": {
        "id": "MFhDFJk6WxvR"
      },
      "source": [
        "class Solution:\n",
        "    def lengthOfLastWord(self, s: str) -> int:\n",
        "        #your code\n",
        "        return"
      ],
      "execution_count": null,
      "outputs": []
    },
    {
      "cell_type": "code",
      "metadata": {
        "id": "3JAO-fheWxvR"
      },
      "source": [
        "solution = Solution()\n",
        "assert(solution.lengthOfLastWord(\"Hello World\") == 5)\n",
        "assert(solution.lengthOfLastWord(\"   fly me   to   the moon  \") == 4)\n",
        "assert(solution.lengthOfLastWord(\"luffy is still joyboy\") == 6)"
      ],
      "execution_count": null,
      "outputs": []
    },
    {
      "cell_type": "markdown",
      "metadata": {
        "id": "jii1dN9LWxvR"
      },
      "source": [
        "Additional problems:\n",
        "- https://leetcode.com/problems/valid-palindrome/\n",
        "- https://leetcode.com/problems/valid-anagram/\n",
        "- https://leetcode.com/problems/detect-capital/"
      ]
    },
    {
      "cell_type": "markdown",
      "metadata": {
        "id": "8MGnKXgoWxvR"
      },
      "source": [
        "### Integers"
      ]
    },
    {
      "cell_type": "markdown",
      "metadata": {
        "id": "_prx8rWiWxvR"
      },
      "source": [
        "7. Reverse Integer\n",
        "\n",
        "Given a signed 32-bit integer x, return x with its digits reversed. If reversing x causes the value to go outside the signed 32-bit integer range [-2^31, 2^31 - 1], then return 0.\n",
        "\n",
        "https://leetcode.com/problems/reverse-integer/"
      ]
    },
    {
      "cell_type": "code",
      "metadata": {
        "id": "5AAjRFjdWxvS"
      },
      "source": [
        "class Solution:\n",
        "    def reverse(self, x: int) -> int:\n",
        "        #your code\n",
        "        return"
      ],
      "execution_count": null,
      "outputs": []
    },
    {
      "cell_type": "code",
      "metadata": {
        "colab": {
          "base_uri": "https://localhost:8080/",
          "height": 235
        },
        "id": "37JqWS8fWxvS",
        "outputId": "82212b0a-bd36-4c3e-f0c5-d24115eed3c3"
      },
      "source": [
        "solution = Solution()\n",
        "assert(solution.reverse(123) == 321)\n",
        "assert(solution.reverse(-123) == -321)\n",
        "assert(solution.reverse(120) == 21)\n",
        "assert(solution.reverse(0) == 0)"
      ],
      "execution_count": null,
      "outputs": [
        {
          "output_type": "error",
          "ename": "AssertionError",
          "evalue": "ignored",
          "traceback": [
            "\u001b[0;31m---------------------------------------------------------------------------\u001b[0m",
            "\u001b[0;31mAssertionError\u001b[0m                            Traceback (most recent call last)",
            "\u001b[0;32m<ipython-input-24-93601b99a401>\u001b[0m in \u001b[0;36m<module>\u001b[0;34m()\u001b[0m\n\u001b[1;32m      1\u001b[0m \u001b[0msolution\u001b[0m \u001b[0;34m=\u001b[0m \u001b[0mSolution\u001b[0m\u001b[0;34m(\u001b[0m\u001b[0;34m)\u001b[0m\u001b[0;34m\u001b[0m\u001b[0;34m\u001b[0m\u001b[0m\n\u001b[0;32m----> 2\u001b[0;31m \u001b[0;32massert\u001b[0m\u001b[0;34m(\u001b[0m\u001b[0msolution\u001b[0m\u001b[0;34m.\u001b[0m\u001b[0mreverse\u001b[0m\u001b[0;34m(\u001b[0m\u001b[0;36m123\u001b[0m\u001b[0;34m)\u001b[0m \u001b[0;34m==\u001b[0m \u001b[0;36m321\u001b[0m\u001b[0;34m)\u001b[0m\u001b[0;34m\u001b[0m\u001b[0;34m\u001b[0m\u001b[0m\n\u001b[0m\u001b[1;32m      3\u001b[0m \u001b[0;32massert\u001b[0m\u001b[0;34m(\u001b[0m\u001b[0msolution\u001b[0m\u001b[0;34m.\u001b[0m\u001b[0mreverse\u001b[0m\u001b[0;34m(\u001b[0m\u001b[0;34m-\u001b[0m\u001b[0;36m123\u001b[0m\u001b[0;34m)\u001b[0m \u001b[0;34m==\u001b[0m \u001b[0;34m-\u001b[0m\u001b[0;36m321\u001b[0m\u001b[0;34m)\u001b[0m\u001b[0;34m\u001b[0m\u001b[0;34m\u001b[0m\u001b[0m\n\u001b[1;32m      4\u001b[0m \u001b[0;32massert\u001b[0m\u001b[0;34m(\u001b[0m\u001b[0msolution\u001b[0m\u001b[0;34m.\u001b[0m\u001b[0mreverse\u001b[0m\u001b[0;34m(\u001b[0m\u001b[0;36m120\u001b[0m\u001b[0;34m)\u001b[0m \u001b[0;34m==\u001b[0m \u001b[0;36m21\u001b[0m\u001b[0;34m)\u001b[0m\u001b[0;34m\u001b[0m\u001b[0;34m\u001b[0m\u001b[0m\n\u001b[1;32m      5\u001b[0m \u001b[0;32massert\u001b[0m\u001b[0;34m(\u001b[0m\u001b[0msolution\u001b[0m\u001b[0;34m.\u001b[0m\u001b[0mreverse\u001b[0m\u001b[0;34m(\u001b[0m\u001b[0;36m0\u001b[0m\u001b[0;34m)\u001b[0m \u001b[0;34m==\u001b[0m \u001b[0;36m0\u001b[0m\u001b[0;34m)\u001b[0m\u001b[0;34m\u001b[0m\u001b[0;34m\u001b[0m\u001b[0m\n",
            "\u001b[0;31mAssertionError\u001b[0m: "
          ]
        }
      ]
    },
    {
      "cell_type": "markdown",
      "metadata": {
        "id": "p_myV9_2WxvS"
      },
      "source": [
        "Additional problems:\n",
        "- https://leetcode.com/problems/self-dividing-numbers/\n",
        "- https://leetcode.com/problems/plus-one/\n",
        "- https://leetcode.com/problems/add-digits/"
      ]
    },
    {
      "cell_type": "markdown",
      "metadata": {
        "id": "zULesnddWxvS"
      },
      "source": [
        "### Loops"
      ]
    },
    {
      "cell_type": "markdown",
      "metadata": {
        "id": "X3nsB4XFWxvS"
      },
      "source": [
        "14. Longest Common Prefix\n",
        "\n",
        "Write a function to find the longest common prefix string amongst an array of strings. If there is no common prefix, return an empty string \"\".\n",
        "\n",
        "https://leetcode.com/problems/longest-common-prefix/"
      ]
    },
    {
      "cell_type": "code",
      "metadata": {
        "id": "ejCHnfmZWxvS"
      },
      "source": [
        "class Solution:\n",
        "    def longestCommonPrefix(self, strs: List[str]) -> str:\n",
        "        #your code\n",
        "        return"
      ],
      "execution_count": null,
      "outputs": []
    },
    {
      "cell_type": "code",
      "metadata": {
        "id": "pSbYcjvMWxvS"
      },
      "source": [
        "solution = Solution()\n",
        "assert(solution.longestCommonPrefix([\"flower\",\"flow\",\"flight\"]) == \"fl\")\n",
        "assert(solution.longestCommonPrefix([\"dog\",\"racecar\",\"car\"]) == \"\")\n",
        "assert(solution.longestCommonPrefix([\"university\"]) == \"university\")"
      ],
      "execution_count": null,
      "outputs": []
    },
    {
      "cell_type": "markdown",
      "metadata": {
        "id": "TdctOpILWxvT"
      },
      "source": [
        "412. Fizz Buzz\n",
        "\n",
        "Given an integer n, return a string array answer (1-indexed) where:\n",
        "\n",
        "    answer[i] == \"FizzBuzz\" if i is divisible by 3 and 5.\n",
        "    answer[i] == \"Fizz\" if i is divisible by 3.\n",
        "    answer[i] == \"Buzz\" if i is divisible by 5.\n",
        "    answer[i] == i if non of the above conditions are true.\n",
        "\n",
        "https://leetcode.com/problems/fizz-buzz/"
      ]
    },
    {
      "cell_type": "code",
      "metadata": {
        "id": "OtUtT-XMWxvT"
      },
      "source": [
        "class Solution:\n",
        "    def fizzBuzz(self, n: int) -> List[str]:\n",
        "        #your code\n",
        "        return"
      ],
      "execution_count": null,
      "outputs": []
    },
    {
      "cell_type": "code",
      "metadata": {
        "id": "JvOUdSukWxvT"
      },
      "source": [
        "solution = Solution()\n",
        "assert(solution.fizzBuzz(15) == [\"1\",\"2\",\"Fizz\",\"4\",\"Buzz\",\"Fizz\",\"7\",\"8\",\"Fizz\",\"Buzz\",\"11\",\"Fizz\",\"13\",\"14\",\"FizzBuzz\"])"
      ],
      "execution_count": null,
      "outputs": []
    },
    {
      "cell_type": "markdown",
      "metadata": {
        "id": "PHTHETkRWxvT"
      },
      "source": [
        "Additional problems:\n",
        "- https://leetcode.com/problems/shuffle-the-array/\n",
        "- https://leetcode.com/problems/sorting-the-sentence/\n",
        "- https://leetcode.com/problems/check-if-two-string-arrays-are-equivalent/"
      ]
    },
    {
      "cell_type": "markdown",
      "metadata": {
        "id": "SgeLC41_WxvT"
      },
      "source": [
        "### Extra task"
      ]
    },
    {
      "cell_type": "markdown",
      "metadata": {
        "id": "yHtJXlQlWxvT"
      },
      "source": [
        "13. Roman to Integer\n",
        "\n",
        "Roman numerals are represented by seven different symbols: I, V, X, L, C, D and M.\n",
        "\n",
        "    Symbol       Value\n",
        "    I             1\n",
        "    V             5\n",
        "    X             10\n",
        "    L             50\n",
        "    C             100\n",
        "    D             500\n",
        "    M             1000\n",
        "For example, 2 is written as II in Roman numeral, just two one's added together. 12 is written as XII, which is simply X + II. The number 27 is written as XXVII, which is XX + V + II.\n",
        "\n",
        "Roman numerals are usually written largest to smallest from left to right. However, the numeral for four is not IIII. Instead, the number four is written as IV. Because the one is before the five we subtract it making four. The same principle applies to the number nine, which is written as IX. There are six instances where subtraction is used:\n",
        "\n",
        "    I can be placed before V (5) and X (10) to make 4 and 9.\n",
        "    X can be placed before L (50) and C (100) to make 40 and 90.\n",
        "    C can be placed before D (500) and M (1000) to make 400 and 900.\n",
        "    \n",
        "https://leetcode.com/problems/roman-to-integer/"
      ]
    },
    {
      "cell_type": "code",
      "metadata": {
        "id": "W6KzpNlPWxvT"
      },
      "source": [
        "class Solution:\n",
        "    def romanToInt(self, s: str) -> int:\n",
        "        #your code\n",
        "        return"
      ],
      "execution_count": null,
      "outputs": []
    },
    {
      "cell_type": "code",
      "metadata": {
        "id": "Xg2uolThWxvU"
      },
      "source": [
        "solution = Solution()\n",
        "assert(solution.romanToInt([\"III\"]) == 3)\n",
        "assert(solution.romanToInt([\"IV\"]) == 4)\n",
        "assert(solution.romanToInt([\"IX\"]) == 9)\n",
        "assert(solution.romanToInt([\"MCMXCIV\"]) == 1994)\n",
        "assert(solution.romanToInt([\"MMXXI\"]) == 2021)"
      ],
      "execution_count": null,
      "outputs": []
    },
    {
      "cell_type": "markdown",
      "metadata": {
        "id": "oEvT2SOLWxvU"
      },
      "source": [
        "Additional problems:\n",
        "- https://leetcode.com/problems/longest-nice-substring/\n",
        "- https://leetcode.com/problems/move-zeroes/\n",
        "- https://leetcode.com/problems/day-of-the-week/"
      ]
    },
    {
      "cell_type": "markdown",
      "metadata": {
        "id": "de5whiX3WxvU"
      },
      "source": [
        "# Bonus: Zen of Python"
      ]
    },
    {
      "cell_type": "code",
      "metadata": {
        "id": "OHHhFrpPWxvU"
      },
      "source": [
        "import this"
      ],
      "execution_count": null,
      "outputs": []
    }
  ]
}